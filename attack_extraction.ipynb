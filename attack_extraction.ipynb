{
 "cells": [
  {
   "cell_type": "code",
   "execution_count": 63,
   "id": "7b0905b6",
   "metadata": {},
   "outputs": [
    {
     "name": "stdout",
     "output_type": "stream",
     "text": [
      "            id                                  Flow ID         Src IP  \\\n",
      "0            1  192.168.10.50-192.168.10.3-56108-3268-6  192.168.10.50   \n",
      "1            2   192.168.10.50-192.168.10.3-42144-389-6  192.168.10.50   \n",
      "2            3                    8.6.0.1-8.0.6.4-0-0-0        8.6.0.1   \n",
      "3            4   192.168.10.25-224.0.0.251-5353-5353-17  192.168.10.25   \n",
      "4            5   192.168.10.25-17.253.14.125-123-123-17  192.168.10.25   \n",
      "...        ...                                      ...            ...   \n",
      "547552  547553    172.16.0.1-192.168.10.50-64318-2222-6     172.16.0.1   \n",
      "547553  547554    172.16.0.1-192.168.10.50-33248-9040-6     172.16.0.1   \n",
      "547554  547555    172.16.0.1-192.168.10.50-44033-1272-6     172.16.0.1   \n",
      "547555  547556   192.168.10.16-192.168.10.3-64748-53-17  192.168.10.16   \n",
      "547556  547557  192.168.10.51-162.213.33.50-58853-443-6  192.168.10.51   \n",
      "\n",
      "        Src Port         Dst IP  Dst Port  Protocol  \\\n",
      "0          56108   192.168.10.3      3268         6   \n",
      "1          42144   192.168.10.3       389         6   \n",
      "2              0        8.0.6.4         0         0   \n",
      "3           5353    224.0.0.251      5353        17   \n",
      "4            123  17.253.14.125       123        17   \n",
      "...          ...            ...       ...       ...   \n",
      "547552     64318  192.168.10.50      2222         6   \n",
      "547553     33248  192.168.10.50      9040         6   \n",
      "547554     44033  192.168.10.50      1272         6   \n",
      "547555     64748   192.168.10.3        53        17   \n",
      "547556     58853  162.213.33.50       443         6   \n",
      "\n",
      "                         Timestamp  Flow Duration  Total Fwd Packet  ...  \\\n",
      "0       2017-07-07 11:59:50.315195      112740690                32  ...   \n",
      "1       2017-07-07 11:59:50.316273      112740560                32  ...   \n",
      "2       2017-07-07 12:00:31.388567      113757377               545  ...   \n",
      "3       2017-07-07 12:00:42.903850       91997219               388  ...   \n",
      "4       2017-07-07 12:00:42.430758       66966070                 6  ...   \n",
      "...                            ...            ...               ...  ...   \n",
      "547552  2017-07-07 18:09:11.499555             64                 1  ...   \n",
      "547553  2017-07-07 17:54:38.857717             76                 1  ...   \n",
      "547554  2017-07-07 17:52:03.285040             81                 1  ...   \n",
      "547555  2017-07-07 18:33:45.701233            297                 2  ...   \n",
      "547556  2017-07-07 13:46:39.176784        3295131                13  ...   \n",
      "\n",
      "        Active Min     Idle Mean      Idle Std  Idle Max  Idle Min  ICMP Code  \\\n",
      "0              343  1.610540e+07  4.988048e+05  16399772  15375229         -1   \n",
      "1              285  1.610543e+07  4.987937e+05  16399782  15375263         -1   \n",
      "2               19  1.221036e+07  6.935824e+06  20757030   5504997         -1   \n",
      "3               16  1.319764e+07  5.826905e+06  19776791   5817470         -1   \n",
      "4          1968172  6.497443e+07  0.000000e+00  64974431  64974431         -1   \n",
      "...            ...           ...           ...       ...       ...        ...   \n",
      "547552           0  0.000000e+00  0.000000e+00         0         0         -1   \n",
      "547553           0  0.000000e+00  0.000000e+00         0         0         -1   \n",
      "547554           0  0.000000e+00  0.000000e+00         0         0         -1   \n",
      "547555           0  0.000000e+00  0.000000e+00         0         0         -1   \n",
      "547556           0  0.000000e+00  0.000000e+00         0         0         -1   \n",
      "\n",
      "        ICMP Type  Total TCP Flow Time     Label  Attempted Category  \n",
      "0              -1            112740690    BENIGN                  -1  \n",
      "1              -1            112740560    BENIGN                  -1  \n",
      "2              -1                    0    BENIGN                  -1  \n",
      "3              -1                    0    BENIGN                  -1  \n",
      "4              -1                    0    BENIGN                  -1  \n",
      "...           ...                  ...       ...                 ...  \n",
      "547552         -1                   64  Portscan                  -1  \n",
      "547553         -1                   76  Portscan                  -1  \n",
      "547554         -1                   81  Portscan                  -1  \n",
      "547555         -1                    0    BENIGN                  -1  \n",
      "547556         -1              3295131    BENIGN                  -1  \n",
      "\n",
      "[547557 rows x 91 columns]\n"
     ]
    }
   ],
   "source": [
    "df = pd.read_csv(f'friday.csv')\n",
    "print(df)\n",
    "df = df[['Src IP', 'Src Port', 'Dst IP', 'Dst Port', 'Label']]\n",
    "df.drop_duplicates(inplace=True)\n",
    "df.to_csv('friday_labels_cleaned.csv', index=False)"
   ]
  },
  {
   "cell_type": "code",
   "execution_count": 64,
   "id": "ac72a70a",
   "metadata": {},
   "outputs": [
    {
     "name": "stdout",
     "output_type": "stream",
     "text": [
      "          Src IP  Src Port         Dst IP  Dst Port   Label\n",
      "0  192.168.10.50     56108   192.168.10.3      3268  BENIGN\n",
      "1  192.168.10.50     42144   192.168.10.3       389  BENIGN\n",
      "2        8.6.0.1         0        8.0.6.4         0  BENIGN\n",
      "3  192.168.10.25      5353    224.0.0.251      5353  BENIGN\n",
      "4  192.168.10.25       123  17.253.14.125       123  BENIGN\n",
      "['BENIGN' 'Botnet - Attempted' 'Botnet' 'Portscan' 'DDoS']\n"
     ]
    }
   ],
   "source": [
    "import pandas as pd\n",
    "day = \"friday\"\n",
    "df = pd.read_csv(f'{day}_labels_cleaned.csv')\n",
    "print(df.head())\n",
    "dfs = {}\n",
    "df['Label'].unique()\n",
    "\n",
    "for label in df['Label'].unique():\n",
    "    label_df = df[df['Label'] == label]\n",
    "    dfs[label] = label_df\n",
    "print(df['Label'].unique())\n",
    "# Iterate through the dictionary of DataFrames and write each one to a CSV file\n",
    "\n",
    "for label, label_df in dfs.items():\n",
    "    if not label == 'BENIGN':\n",
    "        continue\n",
    "    # Define the output file path for each DataFrame\n",
    "    output_file_path = f'{day}_benign - small - sanity_check.csv'\n",
    "    label_df = label_df.sample(frac=0.0001)\n",
    "    # Write the DataFrame to the CSV file\n",
    "    label_df.to_csv(output_file_path, index=False)"
   ]
  },
  {
   "cell_type": "code",
   "execution_count": null,
   "id": "ff9d3054",
   "metadata": {},
   "outputs": [],
   "source": []
  },
  {
   "cell_type": "code",
   "execution_count": 53,
   "id": "c2ab021c",
   "metadata": {},
   "outputs": [],
   "source": []
  },
  {
   "cell_type": "code",
   "execution_count": 39,
   "id": "8ae6413a",
   "metadata": {},
   "outputs": [],
   "source": [
    "# Iterate through the dictionary of DataFrames and write each one to a CSV file\n",
    "day = \"thursday_\"\n",
    "for label, label_df in dfs.items():\n",
    "    if label == 'BENIGN':\n",
    "        label_df = label_df.head(222)\n",
    "        # Define the output file path for each DataFrame\n",
    "        output_file_path = f'{day}{label}_223.csv'\n",
    "\n",
    "        # Write the DataFrame to the CSV file\n",
    "        label_df.to_csv(output_file_path, index=False)"
   ]
  }
 ],
 "metadata": {
  "kernelspec": {
   "display_name": "Python 3 (ipykernel)",
   "language": "python",
   "name": "python3"
  },
  "language_info": {
   "codemirror_mode": {
    "name": "ipython",
    "version": 3
   },
   "file_extension": ".py",
   "mimetype": "text/x-python",
   "name": "python",
   "nbconvert_exporter": "python",
   "pygments_lexer": "ipython3",
   "version": "3.10.9"
  }
 },
 "nbformat": 4,
 "nbformat_minor": 5
}
